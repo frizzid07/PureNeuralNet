{
  "nbformat": 4,
  "nbformat_minor": 0,
  "metadata": {
    "colab": {
      "name": "perceptron.ipynb",
      "provenance": []
    },
    "kernelspec": {
      "name": "python3",
      "display_name": "Python 3"
    }
  },
  "cells": [
    {
      "cell_type": "code",
      "metadata": {
        "id": "e_zDfbxHUD_H",
        "colab_type": "code",
        "colab": {}
      },
      "source": [
        "import numpy as np"
      ],
      "execution_count": 0,
      "outputs": []
    },
    {
      "cell_type": "markdown",
      "metadata": {
        "id": "FIRoDd3qVTXb",
        "colab_type": "text"
      },
      "source": [
        "Defining the sigmoid activation function and its derivative"
      ]
    },
    {
      "cell_type": "code",
      "metadata": {
        "id": "bcIK6EtsVWuG",
        "colab_type": "code",
        "colab": {}
      },
      "source": [
        "def sigmoid(x):\n",
        "  return 1 / (1 + np.exp(-x))\n",
        "\n",
        "def sigmoid_derivative(x):\n",
        "  return x * (1 - x)"
      ],
      "execution_count": 0,
      "outputs": []
    },
    {
      "cell_type": "markdown",
      "metadata": {
        "id": "ZPxy_y00VYf1",
        "colab_type": "text"
      },
      "source": [
        "Entering input values for training"
      ]
    },
    {
      "cell_type": "code",
      "metadata": {
        "id": "3BtBa_wMVtTW",
        "colab_type": "code",
        "colab": {}
      },
      "source": [
        "training_inputs = np.array([[0, 0, 1],\n",
        "                           [1, 1, 1],\n",
        "                           [1, 0, 1],\n",
        "                           [0, 1, 1]])"
      ],
      "execution_count": 0,
      "outputs": []
    },
    {
      "cell_type": "markdown",
      "metadata": {
        "id": "lqIwuQKQVyAO",
        "colab_type": "text"
      },
      "source": [
        "Entering output values for the provided inputs"
      ]
    },
    {
      "cell_type": "code",
      "metadata": {
        "id": "ghLV7LQrV28g",
        "colab_type": "code",
        "colab": {}
      },
      "source": [
        "training_outputs = np.array([[0, 1, 1, 0]]).T"
      ],
      "execution_count": 0,
      "outputs": []
    },
    {
      "cell_type": "markdown",
      "metadata": {
        "id": "9JrMJ-RqWVaw",
        "colab_type": "text"
      },
      "source": [
        "Generating random weights for each input"
      ]
    },
    {
      "cell_type": "code",
      "metadata": {
        "id": "UVSnz4AWWfDJ",
        "colab_type": "code",
        "outputId": "30a5302f-32d0-4e67-92a4-76eec9d3f230",
        "colab": {
          "base_uri": "https://localhost:8080/",
          "height": 85
        }
      },
      "source": [
        "np.random.seed(1)\n",
        "\n",
        "synaptic_weights = 2 * np.random.random((3, 1)) - 1\n",
        "print('Random weights are')\n",
        "print(synaptic_weights)"
      ],
      "execution_count": 0,
      "outputs": [
        {
          "output_type": "stream",
          "text": [
            "Random weights are\n",
            "[[-0.16595599]\n",
            " [ 0.44064899]\n",
            " [-0.99977125]]\n"
          ],
          "name": "stdout"
        }
      ]
    },
    {
      "cell_type": "markdown",
      "metadata": {
        "id": "d-TxUTYjW9D-",
        "colab_type": "text"
      },
      "source": [
        "Training the network iteratively"
      ]
    },
    {
      "cell_type": "code",
      "metadata": {
        "id": "dB3b_hHPXAKZ",
        "colab_type": "code",
        "outputId": "657b00b8-aaef-4b7b-f7d0-6c49ef6b2098",
        "colab": {
          "base_uri": "https://localhost:8080/",
          "height": 170
        }
      },
      "source": [
        "for iteration in range(20000):\n",
        "  input_layer = training_inputs\n",
        "  \n",
        "  outputs = sigmoid(np.dot(input_layer, synaptic_weights))\n",
        "\n",
        "  error = training_outputs - outputs\n",
        "\n",
        "  adjustments = error * sigmoid_derivative(outputs)\n",
        "\n",
        "  synaptic_weights += np.dot(input_layer.T, adjustments)\n",
        "\n",
        "print('Synaptic weights after training')\n",
        "print(synaptic_weights)\n",
        "\n",
        "print('Outputs after training')\n",
        "print(outputs)"
      ],
      "execution_count": 0,
      "outputs": [
        {
          "output_type": "stream",
          "text": [
            "Synaptic weights after training\n",
            "[[10.38040701]\n",
            " [-0.20641179]\n",
            " [-4.98452047]]\n",
            "Outputs after training\n",
            "[[0.00679672]\n",
            " [0.99445583]\n",
            " [0.99548516]\n",
            " [0.00553614]]\n"
          ],
          "name": "stdout"
        }
      ]
    }
  ]
}