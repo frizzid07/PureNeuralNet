{
  "nbformat": 4,
  "nbformat_minor": 0,
  "metadata": {
    "colab": {
      "name": "neural-network.ipynb",
      "provenance": []
    },
    "kernelspec": {
      "name": "python3",
      "display_name": "Python 3"
    }
  },
  "cells": [
    {
      "cell_type": "code",
      "metadata": {
        "id": "4SVhwiZmx_NH",
        "colab_type": "code",
        "outputId": "c5e8c371-87da-40ac-830b-9ceffa44fc17",
        "colab": {
          "base_uri": "https://localhost:8080/",
          "height": 272
        }
      },
      "source": [
        "import numpy as np\n",
        "\n",
        "class NeuralNetwork():\n",
        "\n",
        "  def __init__(self):\n",
        "    np.random.seed(1)\n",
        "\n",
        "    self.synaptic_weights = 2 * np.random.random((3, 1)) - 1\n",
        "\n",
        "  def sigmoid(self, x):\n",
        "    return 1 / (1 + np.exp(-x))\n",
        "  \n",
        "  def sigmoid_derivative(self, x):\n",
        "    return x * (1 - x)\n",
        "  \n",
        "  def train(self, training_inputs, training_outputs, training_iterations):\n",
        "\n",
        "    for iteration in range(training_iterations):\n",
        "\n",
        "      output = self.think(training_inputs)\n",
        "      error = training_outputs - output\n",
        "      adjustments = np.dot(training_inputs.T, error * self.sigmoid_derivative(output))\n",
        "      self.synaptic_weights += adjustments\n",
        "  \n",
        "  def think(self, inputs):\n",
        "\n",
        "    inputs = inputs.astype(float)\n",
        "    output = self.sigmoid(np.dot(inputs, self.synaptic_weights))\n",
        "\n",
        "    return output\n",
        "\n",
        "if __name__ == '__main__':\n",
        "  \n",
        "  neural_network = NeuralNetwork()\n",
        "\n",
        "  print('Random synaptic weights')\n",
        "  print(neural_network.synaptic_weights)\n",
        "\n",
        "  training_inputs = np.array([[0, 0, 1],\n",
        "                           [1, 1, 1],\n",
        "                           [1, 0, 1],\n",
        "                           [0, 1, 1],\n",
        "                           [0, 1, 0]])\n",
        "  training_outputs = np.array([[0, 1, 1, 0, 0]]).T\n",
        "\n",
        "  neural_network.train(training_inputs, training_outputs, 20000)\n",
        "\n",
        "  print('Synaptic weights after adjustment')\n",
        "  print(neural_network.synaptic_weights)\n",
        "\n",
        "  a = str(input('Input 1: '))\n",
        "  b = str(input('Input 2: '))\n",
        "  c = str(input('Input 3: '))\n",
        "\n",
        "  print('Input Data')\n",
        "  print(a, b, c)\n",
        "  print('Output Data')\n",
        "  print(neural_network.think(np.array([a, b, c])))"
      ],
      "execution_count": 0,
      "outputs": [
        {
          "output_type": "stream",
          "text": [
            "Random synaptic weights\n",
            "[[-0.16595599]\n",
            " [ 0.44064899]\n",
            " [-0.99977125]]\n",
            "Synaptic weights after adjustment\n",
            "[[13.87388703]\n",
            " [-4.57599466]\n",
            " [-4.57593856]]\n",
            "Input 1: 1\n",
            "Input 2: 0\n",
            "Input 3: 0\n",
            "Input Data\n",
            "1 0 0\n",
            "Output Data\n",
            "[0.99999906]\n"
          ],
          "name": "stdout"
        }
      ]
    }
  ]
}